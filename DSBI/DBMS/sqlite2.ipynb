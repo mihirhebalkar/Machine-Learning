{
 "cells": [
  {
   "cell_type": "code",
   "execution_count": 1,
   "metadata": {},
   "outputs": [
    {
     "name": "stdout",
     "output_type": "stream",
     "text": [
      "\n",
      "Student Records:\n",
      "ID: 1, Name: Alice, Age: 20, Grade: A\n",
      "ID: 2, Name: Bob, Age: 21, Grade: B\n",
      "ID: 3, Name: Charlie, Age: 22, Grade: A\n",
      "\n",
      "Updated Student Records:\n",
      "\n",
      "Student Records:\n",
      "ID: 1, Name: Alice, Age: 20, Grade: A\n",
      "ID: 2, Name: Bob, Age: 23, Grade: B\n",
      "ID: 3, Name: Charlie, Age: 22, Grade: A\n",
      "\n",
      "Student Records After Deletion:\n",
      "\n",
      "Student Records:\n",
      "ID: 1, Name: Alice, Age: 20, Grade: A\n",
      "ID: 2, Name: Bob, Age: 23, Grade: B\n"
     ]
    }
   ],
   "source": [
    "import sqlite3\n",
    "\n",
    "conn = sqlite3.connect(\"student_records.db\")\n",
    "cursor = conn.cursor()\n",
    "\n",
    "cursor.execute('''\n",
    "    CREATE TABLE IF NOT EXISTS students (\n",
    "        id INTEGER PRIMARY KEY AUTOINCREMENT,\n",
    "        name TEXT NOT NULL,\n",
    "        age INTEGER NOT NULL,\n",
    "        grade TEXT NOT NULL\n",
    "    )\n",
    "''')\n",
    "conn.commit()\n",
    "\n",
    "cursor.execute(\"SELECT COUNT(*) FROM students\")\n",
    "if cursor.fetchone()[0] == 0:\n",
    "    cursor.executemany('''\n",
    "        INSERT INTO students (name, age, grade) VALUES (?, ?, ?)\n",
    "    ''', [\n",
    "        (\"Alice\", 20, \"A\"),\n",
    "        (\"Bob\", 21, \"B\"),\n",
    "        (\"Charlie\", 22, \"A\")\n",
    "    ])\n",
    "    conn.commit()\n",
    "\n",
    "def display_students():\n",
    "    cursor.execute(\"SELECT * FROM students\")\n",
    "    students = cursor.fetchall()\n",
    "    print(\"\\nStudent Records:\")\n",
    "    for student in students:\n",
    "        print(f\"ID: {student[0]}, Name: {student[1]}, Age: {student[2]}, Grade: {student[3]}\")\n",
    "\n",
    "display_students()\n",
    "\n",
    "cursor.execute(\"UPDATE students SET age = 23 WHERE name = 'Bob'\")\n",
    "conn.commit()\n",
    "print(\"\\nUpdated Student Records:\")\n",
    "display_students()\n",
    "\n",
    "cursor.execute(\"DELETE FROM students WHERE name = 'Charlie'\")\n",
    "conn.commit()\n",
    "print(\"\\nStudent Records After Deletion:\")\n",
    "display_students()\n",
    "\n",
    "conn.close()\n"
   ]
  }
 ],
 "metadata": {
  "kernelspec": {
   "display_name": ".venv",
   "language": "python",
   "name": "python3"
  },
  "language_info": {
   "codemirror_mode": {
    "name": "ipython",
    "version": 3
   },
   "file_extension": ".py",
   "mimetype": "text/x-python",
   "name": "python",
   "nbconvert_exporter": "python",
   "pygments_lexer": "ipython3",
   "version": "3.12.6"
  }
 },
 "nbformat": 4,
 "nbformat_minor": 2
}
