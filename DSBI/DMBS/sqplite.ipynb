{
 "cells": [
  {
   "cell_type": "code",
   "execution_count": 1,
   "metadata": {},
   "outputs": [],
   "source": [
    "import sqlite3"
   ]
  },
  {
   "cell_type": "code",
   "execution_count": null,
   "metadata": {},
   "outputs": [],
   "source": [
    "conn=sqlite3.connect('example.db')\n",
    "\n",
    "cursor=conn.cursor()\n",
    "cursor.execute('''Create  TABLE IF NOT EXISTS users(\n",
    "               id INTEGER PRIMARY KEY AUTOINCREMENT,\n",
    "               name TEXT NOT NULL,\n",
    "               age INTEGER)''')\n",
    "conn.commit()"
   ]
  },
  {
   "cell_type": "code",
   "execution_count": 3,
   "metadata": {},
   "outputs": [
    {
     "data": {
      "text/plain": [
       "<sqlite3.Cursor at 0x1bcbe576340>"
      ]
     },
     "execution_count": 3,
     "metadata": {},
     "output_type": "execute_result"
    }
   ],
   "source": [
    "cursor.execute(\"INSERT INTO users (name, age) VALUES (?,?)\", ('Alice',25))\n",
    "cursor.execute(\"INSERT INTO users (name, age) VALUES (?,?)\", ('Bob',30))"
   ]
  },
  {
   "cell_type": "code",
   "execution_count": 8,
   "metadata": {},
   "outputs": [
    {
     "data": {
      "text/plain": [
       "<sqlite3.Cursor at 0x1bcbe576340>"
      ]
     },
     "execution_count": 8,
     "metadata": {},
     "output_type": "execute_result"
    }
   ],
   "source": [
    "cursor.execute(\"INSERT INTO users (name, age) VALUES (?,?)\", ('John',45))"
   ]
  },
  {
   "cell_type": "code",
   "execution_count": 9,
   "metadata": {},
   "outputs": [
    {
     "name": "stdout",
     "output_type": "stream",
     "text": [
      "[(1, 'Alice', 25), (2, 'Bob', 30), (3, 'John', 45)]\n",
      "[(1, 'Alice', 25), (2, 'Bob', 30), (3, 'John', 45)]\n",
      "[(1, 'Alice', 25), (2, 'Bob', 30), (3, 'John', 45)]\n"
     ]
    }
   ],
   "source": [
    "cursor.execute('SELECT * FROM users')\n",
    "rows = cursor.fetchall()\n",
    "for row in rows:\n",
    "    print(rows)"
   ]
  },
  {
   "cell_type": "code",
   "execution_count": null,
   "metadata": {},
   "outputs": [],
   "source": [
    "import mysql.connector"
   ]
  },
  {
   "cell_type": "code",
   "execution_count": 18,
   "metadata": {},
   "outputs": [],
   "source": [
    "conn = mysql.connector.connect(\n",
    "    host='localhost',\n",
    "    user='root',\n",
    "    password='Mihir@2004',\n",
    "    database='flexi'\n",
    ")"
   ]
  },
  {
   "cell_type": "code",
   "execution_count": 19,
   "metadata": {},
   "outputs": [
    {
     "name": "stdout",
     "output_type": "stream",
     "text": [
      "\n",
      "Available Products:\n",
      "ID: 1, Name: Laptop, Price: $750.0, Stock: 5\n",
      "ID: 2, Name: Phone, Price: $500.0, Stock: 10\n",
      "ID: 3, Name: Headphones, Price: $80.0, Stock: 15\n",
      "ID: 4, Name: Smartwatch, Price: $200.0, Stock: 8\n",
      "ID: 5, Name: Tablet, Price: $300.0, Stock: 6\n",
      "Added Product ID 1 to the cart.\n",
      "Added Product ID 2 to the cart.\n",
      "Added Product ID 3 to the cart.\n",
      "\n",
      "Total Bill: $1330.00\n",
      "Removed Product ID 2 from the cart.\n",
      "\n",
      "Available Products:\n",
      "ID: 1, Name: Laptop, Price: $750.0, Stock: 4\n",
      "ID: 2, Name: Phone, Price: $500.0, Stock: 10\n",
      "ID: 3, Name: Headphones, Price: $80.0, Stock: 14\n",
      "ID: 4, Name: Smartwatch, Price: $200.0, Stock: 8\n",
      "ID: 5, Name: Tablet, Price: $300.0, Stock: 6\n"
     ]
    }
   ],
   "source": [
    "conn = sqlite3.connect(\"shop.db\")\n",
    "cursor = conn.cursor()\n",
    "\n",
    "cursor.execute('''\n",
    "    CREATE TABLE IF NOT EXISTS products (\n",
    "        id INTEGER PRIMARY KEY AUTOINCREMENT,\n",
    "        name TEXT NOT NULL,\n",
    "        price REAL NOT NULL,\n",
    "        stock INTEGER NOT NULL\n",
    "    )\n",
    "''')\n",
    "conn.commit()\n",
    "\n",
    "cursor.execute(\"SELECT COUNT(*) FROM products\")\n",
    "if cursor.fetchone()[0] == 0:\n",
    "    cursor.executemany('''\n",
    "        INSERT INTO products (name, price, stock) VALUES (?, ?, ?)\n",
    "    ''', [\n",
    "        (\"Laptop\", 750.0, 5),\n",
    "        (\"Phone\", 500.0, 10),\n",
    "        (\"Headphones\", 80.0, 15),\n",
    "        (\"Smartwatch\", 200.0, 8),\n",
    "        (\"Tablet\", 300.0, 6)\n",
    "    ])\n",
    "    conn.commit()\n",
    "\n",
    "def display_products():\n",
    "    cursor.execute(\"SELECT * FROM products\")\n",
    "    products = cursor.fetchall()\n",
    "    print(\"\\nAvailable Products:\")\n",
    "    for product in products:\n",
    "        print(f\"ID: {product[0]}, Name: {product[1]}, Price: ${product[2]}, Stock: {product[3]}\")\n",
    "\n",
    "def add_to_cart(product_id):\n",
    "    cursor.execute(\"SELECT stock FROM products WHERE id = ?\", (product_id,))\n",
    "    product = cursor.fetchone()\n",
    "    if product and product[0] > 0:\n",
    "        cursor.execute(\"UPDATE products SET stock = stock - 1 WHERE id = ?\", (product_id,))\n",
    "        conn.commit()\n",
    "        print(f\"Added Product ID {product_id} to the cart.\")\n",
    "    else:\n",
    "        print(\"Product out of stock or invalid ID.\")\n",
    "\n",
    "def remove_from_cart(product_id):\n",
    "    cursor.execute(\"UPDATE products SET stock = stock + 1 WHERE id = ?\", (product_id,))\n",
    "    conn.commit()\n",
    "    print(f\"Removed Product ID {product_id} from the cart.\")\n",
    "\n",
    "def total_bill(cart):\n",
    "    total = 0\n",
    "    for product_id in cart:\n",
    "        cursor.execute(\"SELECT price FROM products WHERE id = ?\", (product_id,))\n",
    "        price = cursor.fetchone()\n",
    "        if price:\n",
    "            total += price[0]\n",
    "    print(f\"\\nTotal Bill: ${total:.2f}\")\n",
    "\n",
    "display_products()\n",
    "cart = [1, 2, 3]\n",
    "for item in cart:\n",
    "    add_to_cart(item)\n",
    "\n",
    "total_bill(cart)\n",
    "remove_from_cart(2)\n",
    "\n",
    "display_products()\n",
    "\n",
    "conn.close()"
   ]
  }
 ],
 "metadata": {
  "kernelspec": {
   "display_name": ".venv",
   "language": "python",
   "name": "python3"
  },
  "language_info": {
   "codemirror_mode": {
    "name": "ipython",
    "version": 3
   },
   "file_extension": ".py",
   "mimetype": "text/x-python",
   "name": "python",
   "nbconvert_exporter": "python",
   "pygments_lexer": "ipython3",
   "version": "3.12.6"
  }
 },
 "nbformat": 4,
 "nbformat_minor": 2
}
