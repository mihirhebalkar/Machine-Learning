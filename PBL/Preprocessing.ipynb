{
 "cells": [
  {
   "cell_type": "code",
   "execution_count": 12,
   "metadata": {},
   "outputs": [],
   "source": [
    "import numpy as np # linear algebra\n",
    "import pandas as pd # data processing, CSV file I/O (e.g. pd.read_csv)\n",
    "import matplotlib\n",
    "import seaborn as sns\n",
    "import sklearn\n",
    "import imblearn\n",
    "import matplotlib.pyplot as plt\n",
    "import time\n",
    "import sklearn.metrics as m\n",
    "import xgboost as xgb\n",
    "# Ignore warnings\n",
    "import warnings\n",
    "warnings.filterwarnings('ignore')"
   ]
  },
  {
   "cell_type": "code",
   "execution_count": null,
   "metadata": {},
   "outputs": [],
   "source": [
    "pd.set_option('display.max_columns', None)\n",
    "pd.set_option('display.max_rows', None)\n",
    "\n",
    "cols = [' Bwd Packet Length Std',' PSH Flag Count',' min_seg_size_forward',' Min Packet Length',' ACK Flag Count',' Bwd Packet Length Min',' Fwd IAT Std','Init_Win_bytes_forward',' Flow IAT Max',' Bwd Packets/s',' URG Flag Count','Bwd IAT Total',' Label']\n",
    "df1=pd.read_csv(\"IDS1.csv\", usecols = cols)#,nrows = 50000\n",
    "df2=pd.read_csv(\"IDS2.csv\", usecols = cols)\n",
    "df3=pd.read_csv(\"IDS3.csv\", usecols = cols)\n",
    "df4=pd.read_csv(\"IDS4.csv\", usecols = cols)\n",
    "df5=pd.read_csv(\"IDS5.csv\", usecols = cols)\n",
    "df6=pd.read_csv(\"IDS6.csv\", usecols = cols)\n",
    "df7=pd.read_csv(\"IDS7.csv\", usecols = cols)\n",
    "df8=pd.read_csv(\"IDS8.csv\", usecols = cols)\n",
    "\n",
    "df = pd.concat([df1,df2])\n",
    "del df1,df2\n",
    "df = pd.concat([df,df3])\n",
    "del df3\n",
    "df = pd.concat([df,df5])\n",
    "del df5\n",
    "df = pd.concat([df,df6])\n",
    "del df6\n",
    "\n",
    "data = df.copy()"
   ]
  },
  {
   "cell_type": "code",
   "execution_count": null,
   "metadata": {},
   "outputs": [],
   "source": []
  },
  {
   "cell_type": "code",
   "execution_count": 15,
   "metadata": {},
   "outputs": [],
   "source": [
    "for column in data.columns:\n",
    "    if data[column].dtype == np.int64:\n",
    "        maxVal = data[column].max()\n",
    "        if maxVal < 120:\n",
    "            data[column] = data[column].astype(np.int8)\n",
    "        elif maxVal < 32767:\n",
    "            data[column] = data[column].astype(np.int16)\n",
    "        else:\n",
    "            data[column] = data[column].astype(np.int32)\n",
    "            \n",
    "    if data[column].dtype == np.float64:\n",
    "        maxVal = data[column].max()\n",
    "        minVal = data[data[column]>0][column]\n",
    "        if maxVal < 120 and minVal>0.01 :\n",
    "            data[column] = data[column].astype(np.float16)\n",
    "        else:\n",
    "            data[column] = data[column].astype(np.float32)\n",
    "            \n",
    "            \n",
    "\n",
    "attackType = data[' Label'].unique()\n",
    "data[' Label'] = data[' Label'].astype('category')\n",
    "data[' Label'] = data[' Label'].astype(\"category\").cat.codes"
   ]
  },
  {
   "cell_type": "code",
   "execution_count": 19,
   "metadata": {},
   "outputs": [],
   "source": [
    "y = data[' Label'].copy()\n",
    "X = data.drop([' Label'],axis=1)\n",
    "from imblearn.under_sampling import RandomUnderSampler\n",
    "\n",
    "rus = RandomUnderSampler(sampling_strategy='majority')\n",
    "X_rus, y_rus = rus.fit_resample(X, y)"
   ]
  },
  {
   "cell_type": "code",
   "execution_count": 20,
   "metadata": {},
   "outputs": [
    {
     "data": {
      "text/plain": [
       " Label\n",
       "1    1966\n",
       "5    1507\n",
       "7     652\n",
       "3      36\n",
       "0      21\n",
       "6      21\n",
       "Name: count, dtype: int64"
      ]
     },
     "execution_count": 20,
     "metadata": {},
     "output_type": "execute_result"
    }
   ],
   "source": [
    "df = X_rus\n",
    "df[' Label'] = y_rus\n",
    "minor = pd.DataFrame(df[(df[' Label']!=4) & (df[' Label']!=2)])\n",
    "major = pd.DataFrame(df[(df[' Label']==4) | (df[' Label']==2)])\n",
    "minor[' Label'].value_counts()"
   ]
  },
  {
   "cell_type": "code",
   "execution_count": 21,
   "metadata": {},
   "outputs": [],
   "source": [
    "from imblearn.over_sampling import SMOTE\n",
    "y_rus_ =  minor[' Label']\n",
    "X_rus_ =  minor.drop([' Label'],axis=1)\n",
    "strategy = {1:2000, 5:1600, 7:800, 3:300, 6:200, 0:200}\n",
    "sm = SMOTE(sampling_strategy=strategy)\n",
    "X_sm, y_sm = sm.fit_resample(X_rus_, y_rus_)\n",
    "X_min,y_min = X_sm, y_sm "
   ]
  },
  {
   "cell_type": "code",
   "execution_count": 22,
   "metadata": {},
   "outputs": [
    {
     "data": {
      "text/plain": [
       " Label\n",
       "4    10000\n",
       "2     6000\n",
       "Name: count, dtype: int64"
      ]
     },
     "execution_count": 22,
     "metadata": {},
     "output_type": "execute_result"
    }
   ],
   "source": [
    "from imblearn.under_sampling import RandomUnderSampler\n",
    "y_rus_ =  major[' Label']\n",
    "X_rus_ =  major.drop([' Label'],axis=1)\n",
    "strategy = {4:10000, 2:6000}\n",
    "tom = RandomUnderSampler(sampling_strategy=strategy)\n",
    "X_tom, y_tom = tom.fit_resample(X_rus_, y_rus_)\n",
    "y_tom.value_counts()"
   ]
  },
  {
   "cell_type": "code",
   "execution_count": 23,
   "metadata": {},
   "outputs": [
    {
     "name": "stdout",
     "output_type": "stream",
     "text": [
      "<class 'pandas.core.frame.DataFrame'>\n",
      "Index: 21100 entries, 79326 to 5099\n",
      "Data columns (total 12 columns):\n",
      " #   Column                  Non-Null Count  Dtype  \n",
      "---  ------                  --------------  -----  \n",
      " 0    Bwd Packet Length Min  21100 non-null  int16  \n",
      " 1    Bwd Packet Length Std  21100 non-null  float32\n",
      " 2    Flow IAT Max           21100 non-null  int32  \n",
      " 3    Fwd IAT Std            21100 non-null  float32\n",
      " 4   Bwd IAT Total           21100 non-null  int32  \n",
      " 5    Bwd Packets/s          21100 non-null  float32\n",
      " 6    Min Packet Length      21100 non-null  int16  \n",
      " 7    PSH Flag Count         21100 non-null  int8   \n",
      " 8    ACK Flag Count         21100 non-null  int8   \n",
      " 9    URG Flag Count         21100 non-null  int8   \n",
      " 10  Init_Win_bytes_forward  21100 non-null  int32  \n",
      " 11   min_seg_size_forward   21100 non-null  int8   \n",
      "dtypes: float32(3), int16(2), int32(3), int8(4)\n",
      "memory usage: 824.2 KB\n"
     ]
    }
   ],
   "source": [
    "X_maj,y_maj = X_tom, y_tom\n",
    "X,y = pd.concat([X_maj,X_min]), pd.concat([y_maj,y_min])\n",
    "X.info()"
   ]
  },
  {
   "cell_type": "code",
   "execution_count": 24,
   "metadata": {},
   "outputs": [],
   "source": [
    "from sklearn.preprocessing import StandardScaler\n",
    "scaler = StandardScaler()\n",
    "\n",
    "# extract numerical attributes and scale it to have zero mean and unit variance  \n",
    "cols = X.select_dtypes(include=['float32','float16','int32','int16','int8']).columns\n",
    "train_X = scaler.fit_transform(X.select_dtypes(include=['float32','float16','int32','int16','int8']))\n",
    "\n",
    "\n",
    "from sklearn.model_selection import train_test_split\n",
    "X_train,X_test,Y_train,Y_test = train_test_split(train_X,y,train_size=0.70, random_state=2)"
   ]
  },
  {
   "cell_type": "code",
   "execution_count": 25,
   "metadata": {},
   "outputs": [],
   "source": [
    "df = pd.concat([X, y], axis=1)\n",
    "\n",
    "# Export the DataFrame to a CSV file\n",
    "df.to_csv('output.csv', index=False) "
   ]
  },
  {
   "cell_type": "code",
   "execution_count": 26,
   "metadata": {},
   "outputs": [
    {
     "name": "stdout",
     "output_type": "stream",
     "text": [
      "Accuracy: 0.9673\n",
      "\n",
      "Classification Report:\n",
      "              precision    recall  f1-score   support\n",
      "\n",
      "           0       1.00      0.99      1.00       200\n",
      "           1       1.00      1.00      1.00      2000\n",
      "           2       1.00      1.00      1.00      6000\n",
      "           3       1.00      1.00      1.00       300\n",
      "           4       1.00      1.00      1.00     10000\n",
      "           5       0.72      0.93      0.81      1600\n",
      "           6       0.99      0.98      0.99       200\n",
      "           7       0.68      0.28      0.39       800\n",
      "\n",
      "    accuracy                           0.97     21100\n",
      "   macro avg       0.92      0.90      0.90     21100\n",
      "weighted avg       0.97      0.97      0.96     21100\n",
      "\n",
      "\n",
      "Confusion Matrix:\n",
      "[[ 199    1    0    0    0    0    0    0]\n",
      " [   0 2000    0    0    0    0    0    0]\n",
      " [   0    0 6000    0    0    0    0    0]\n",
      " [   0    0    0  300    0    0    0    0]\n",
      " [   0    0    0    0 9998    0    1    1]\n",
      " [   0    0    0    0    0 1495    1  104]\n",
      " [   0    0    0    0    0    3  197    0]\n",
      " [   0    0    0    0    0  579    0  221]]\n"
     ]
    }
   ],
   "source": [
    "import xgboost as xgb\n",
    "from sklearn.metrics import accuracy_score, classification_report, confusion_matrix\n",
    "\n",
    "# Initialize the XGBoost model for multiclass classification\n",
    "model = xgb.XGBClassifier(\n",
    "    n_estimators=100,            # Number of boosting rounds\n",
    "    learning_rate=0.1,           # Step size at each iteration\n",
    "    max_depth=6,                 # Maximum depth of the tree\n",
    "    objective='multi:softmax',   # Multiclass classification\n",
    "    num_class=3,                 # Set the number of classes (replace with your number of classes)\n",
    "    eval_metric='mlogloss',      # Log loss for multiclass\n",
    "    use_label_encoder=False      # Avoid label encoder warning\n",
    ")\n",
    "\n",
    "# Train the model using the entire dataset\n",
    "model.fit(X, y)\n",
    "\n",
    "# Make predictions\n",
    "y_pred = model.predict(X)\n",
    "\n",
    "# Evaluate the model\n",
    "accuracy = accuracy_score(y, y_pred)\n",
    "print(f\"Accuracy: {accuracy:.4f}\")\n",
    "\n",
    "# Classification report (Precision, Recall, F1-Score for each class)\n",
    "print(\"\\nClassification Report:\")\n",
    "print(classification_report(y, y_pred))\n",
    "\n",
    "# Confusion matrix (how well the model predicts each class)\n",
    "print(\"\\nConfusion Matrix:\")\n",
    "print(confusion_matrix(y, y_pred))\n"
   ]
  },
  {
   "cell_type": "code",
   "execution_count": 27,
   "metadata": {},
   "outputs": [
    {
     "name": "stdout",
     "output_type": "stream",
     "text": [
      "[2 4 0 1 3 5 6 7]\n"
     ]
    }
   ],
   "source": [
    "# Check the unique attack labels\n",
    "print(y.unique())\n"
   ]
  }
 ],
 "metadata": {
  "kernelspec": {
   "display_name": ".venv",
   "language": "python",
   "name": "python3"
  },
  "language_info": {
   "codemirror_mode": {
    "name": "ipython",
    "version": 3
   },
   "file_extension": ".py",
   "mimetype": "text/x-python",
   "name": "python",
   "nbconvert_exporter": "python",
   "pygments_lexer": "ipython3",
   "version": "3.12.6"
  }
 },
 "nbformat": 4,
 "nbformat_minor": 2
}
